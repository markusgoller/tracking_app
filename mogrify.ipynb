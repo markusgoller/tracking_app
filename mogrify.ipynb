{
 "metadata": {
  "language_info": {
   "codemirror_mode": {
    "name": "ipython",
    "version": 3
   },
   "file_extension": ".py",
   "mimetype": "text/x-python",
   "name": "python",
   "nbconvert_exporter": "python",
   "pygments_lexer": "ipython3",
   "version": "3.7.5-final"
  },
  "orig_nbformat": 2,
  "kernelspec": {
   "name": "python3",
   "display_name": "Python 3"
  }
 },
 "nbformat": 4,
 "nbformat_minor": 2,
 "cells": [
  {
   "cell_type": "code",
   "execution_count": 6,
   "metadata": {},
   "outputs": [
    {
     "output_type": "stream",
     "name": "stdout",
     "text": [
      "/home/unix/dev/images_test/all_images/IMG_20200705_163233.jpg\n/home/unix/dev/images_test/all_images/IMG_20200705_154307_resize.jpg\n/home/unix/dev/images_test/all_images/IMG_20200819_130938.jpg\n/home/unix/dev/images_test/all_images/IMG_20191110_170235_crop.jpg\n/home/unix/dev/images_test/all_images/DSC04664_edited.jpg\n/home/unix/dev/images_test/all_images/IMG_20191110_170235.jpg\n/home/unix/dev/images_test/all_images/IMG_20170826_141543_edited.jpg\n/home/unix/dev/images_test/all_images/IMG_20180926_123725.jpg\n/home/unix/dev/images_test/all_images/IMG_20191110_170235_.jpg\n/home/unix/dev/images_test/all_images/IMG_20200815_200436_1.jpg\n/home/unix/dev/images_test/all_images/IMG_20200705_163233_edited_1.jpg\n/home/unix/dev/images_test/all_images/IMG_20200709_191035_resize.jpg\n/home/unix/dev/images_test/all_images/IMG_20180926_123725_edited.jpg\n/home/unix/dev/images_test/all_images/IMG_20200913_000417.jpg\n/home/unix/dev/images_test/all_images/IMG_20200709_191035.jpg\n/home/unix/dev/images_test/all_images/IMG_20200705_162607_edited.jpg\n/home/unix/dev/images_test/all_images/IMG_20200709_191045_resize.jpg\n/home/unix/dev/images_test/all_images/IMG_20180926_190201.jpg\n/home/unix/dev/images_test/all_images/IMG_20170908_182103_edited_1.jpg\n/home/unix/dev/images_test/all_images/IMG_20200819_205230.jpg\n/home/unix/dev/images_test/all_images/IMG_20200819_140131.jpg\n/home/unix/dev/images_test/all_images/IMG_20200726_172233.jpg\n/home/unix/dev/images_test/all_images/IMG_20200817_134433_resize.jpg\n/home/unix/dev/images_test/all_images/IMG_20200726_172233_resize.jpg\n/home/unix/dev/images_test/all_images/dreizinnen_wanderung_nik_edited.jpg\n/home/unix/dev/images_test/all_images/PSX_20200814_220843.jpg\n/home/unix/dev/images_test/all_images/test.jpg\n/home/unix/dev/images_test/all_images/IMG_20200705_163233_edited.jpg\n/home/unix/dev/images_test/all_images/IMG_20200819_140131_resize.jpg\n/home/unix/dev/images_test/all_images/IMG_20170908_182103.jpg\n/home/unix/dev/images_test/all_images/IMG_20200705_163227.jpg\n/home/unix/dev/images_test/all_images/IMG_20200914_183532.jpg\n/home/unix/dev/images_test/all_images/IMG-20200726-WA0003.jpg\n/home/unix/dev/images_test/all_images/Screenshot_2020-09-13-18-53-25-224_com.ruuvi.station.jpg\n/home/unix/dev/images_test/all_images/IMG_20200817_134433.jpg\n/home/unix/dev/images_test/all_images/renkforce_weather_history_ipatsc2_Screenshot from 2020-07-27 21-01-11.png\n/home/unix/dev/images_test/all_images/IMG_20180926_185843.jpg\n/home/unix/dev/images_test/all_images/IMG_20200819_205230_resize.jpg\n/home/unix/dev/images_test/all_images/IMG_20200630_170836_edited_1.jpg\n/home/unix/dev/images_test/all_images/IMG_20180926_185843_edited_1.jpg\n/home/unix/dev/images_test/all_images/IMG_20200712_115919.jpg\n/home/unix/dev/images_test/all_images/IMG_20200815_200436_1_resize.jpg\n/home/unix/dev/images_test/all_images/dashboard_Wunderground_screenshot_2020-07-25 21-13-37.png\n/home/unix/dev/images_test/all_images/post-bg.jpg\n/home/unix/dev/images_test/all_images/ambasat.jpg\n/home/unix/dev/images_test/all_images/IMG_20200705_154307.jpg\n/home/unix/dev/images_test/all_images/IMG_20200630_170836.jpg\n/home/unix/dev/images_test/all_images/PSX_20200814_222100.jpg\n/home/unix/dev/images_test/all_images/IMG_20200815_114145_resize.jpg\n/home/unix/dev/images_test/all_images/IMG_20170826_141543.jpg\n/home/unix/dev/images_test/all_images/PSX_20200814_222941.jpg\n/home/unix/dev/images_test/all_images/IMG_20200709_191045.jpg\n/home/unix/dev/images_test/all_images/IMG_20180926_185843_edited.jpg\n/home/unix/dev/images_test/all_images/PSX_20200814_222617.jpg\n/home/unix/dev/images_test/all_images/IMG_20200819_130938_resize.jpg\n/home/unix/dev/images_test/all_images/IMG_20170908_182103_edited.jpg\n/home/unix/dev/images_test/all_images/PSX_20200814_222551.jpg\n/home/unix/dev/images_test/all_images/PSX_20200814_221633.jpg\n/home/unix/dev/images_test/all_images/Screenshot_2020-09-13-18-53-25-224_com.ruuvi.station_resize.jpg\n/home/unix/dev/images_test/all_images/IMG_20200914_185318.jpg\n/home/unix/dev/images_test/all_images/contact-bg.jpg\n/home/unix/dev/images_test/all_images/IMG_20180926_190201_edited.jpg\n/home/unix/dev/images_test/all_images/IMG_20200914_185318_resize.jpg\n/home/unix/dev/images_test/all_images/IMG_20191110_170235_resize.jpg\n/home/unix/dev/images_test/all_images/IMG_20200705_162607.jpg\n/home/unix/dev/images_test/all_images/IMG_20200712_115919_compressed.jpg\n/home/unix/dev/images_test/all_images/IMG_20200815_114145.jpg\n/home/unix/dev/images_test/all_images/IMG_20180923_154053.jpg\n/home/unix/dev/images_test/all_images/IMG_20170826_163840.jpg\n/home/unix/dev/images_test/all_images/IMG_20191110_170235_compressed.jpg\n/home/unix/dev/images_test/all_images/PSX_20200814_222333.jpg\n/home/unix/dev/images_test/all_images/IMG_20200630_170836_edited.jpg\n"
     ]
    }
   ],
   "source": [
    "import os\n",
    "\n",
    "directory = r'/home/unix/dev/images_test/all_images'\n",
    "for filename in os.listdir(directory):\n",
    "    if filename.endswith(\".jpg\") or filename.endswith(\".png\"):\n",
    "        print(os.path.join(directory, filename))\n",
    "    else:\n",
    "        continue"
   ]
  },
  {
   "cell_type": "code",
   "execution_count": null,
   "metadata": {},
   "outputs": [],
   "source": []
  },
  {
   "source": [],
   "cell_type": "code",
   "metadata": {},
   "execution_count": 24,
   "outputs": []
  },
  {
   "cell_type": "code",
   "execution_count": 10,
   "metadata": {},
   "outputs": [
    {
     "output_type": "stream",
     "name": "stdout",
     "text": [
      "travelling\nbike_tour_berlin_notebook\nRuuviTags\nPIRailSlider\ncover_images\nall_images\nmy_personal_satellite\nweather_station\n"
     ]
    }
   ],
   "source": [
    "#!/usr/bin/python\n",
    "\n",
    "import os, sys\n",
    "\n",
    "# Open a file\n",
    "path = \"/home/unix/dev/images_test/.\"\n",
    "dirs = os.listdir(path)\n",
    "\n",
    "# This would print all the files and directories\n",
    "for file in dirs:\n",
    "   print(file)"
   ]
  },
  {
   "cell_type": "code",
   "execution_count": 30,
   "metadata": {},
   "outputs": [
    {
     "output_type": "stream",
     "name": "stdout",
     "text": [
      "current working directory: /home/unix/dev/images_test\n"
     ]
    }
   ],
   "source": [
    "os.chdir('/home/unix/dev/images_test/')\n",
    "print('current working directory:', os.getcwd())\n",
    "#os.system('mogrify -resize 1050x70 *.jpg')"
   ]
  },
  {
   "cell_type": "code",
   "execution_count": 26,
   "metadata": {},
   "outputs": [
    {
     "output_type": "stream",
     "name": "stdout",
     "text": [
      "/home/unix/dev/images_test/./travelling/IMG_20191110_170235_crop.jpg\n/home/unix/dev/images_test/./travelling/DSC04664_edited.jpg\n/home/unix/dev/images_test/./travelling/IMG_20170908_182103_edited_1.jpg\n/home/unix/dev/images_test/./travelling/IMG_20180926_185843_edited_1.jpg\n/home/unix/dev/images_test/./bike_tour_berlin_notebook/IMG_20200817_134433_resize.jpg\n/home/unix/dev/images_test/./bike_tour_berlin_notebook/IMG_20200819_140131_resize.jpg\n/home/unix/dev/images_test/./bike_tour_berlin_notebook/IMG_20200819_205230_resize.jpg\n/home/unix/dev/images_test/./bike_tour_berlin_notebook/IMG_20200815_200436_1_resize.jpg\n/home/unix/dev/images_test/./bike_tour_berlin_notebook/IMG_20200815_114145_resize.jpg\n/home/unix/dev/images_test/./RuuviTags/IMG_20200914_183532_resize.jpg\n/home/unix/dev/images_test/./RuuviTags/Screenshot_2020-09-13-18-53-25-224_com.ruuvi.station_resize.jpg\n/home/unix/dev/images_test/./RuuviTags/IMG_20200914_185318_resize.jpg\n/home/unix/dev/images_test/./PIRailSlider/IMG_20200705_163233_edited_1.jpg\n/home/unix/dev/images_test/./PIRailSlider/IMG_20200709_191035_resize.jpg\n/home/unix/dev/images_test/./PIRailSlider/IMG_20200709_191045_resize.jpg\n/home/unix/dev/images_test/./PIRailSlider/IMG_20200712_115919_compressed.jpg\n/home/unix/dev/images_test/./cover_images/DSC04664_edited.jpg\n/home/unix/dev/images_test/./cover_images/DSC04664-min_compressjpeg.JPG\n/home/unix/dev/images_test/./cover_images/DSC04664.JPG\n/home/unix/dev/images_test/./cover_images/IMG_20200819_130938_resize.jpg\n/home/unix/dev/images_test/./all_images/IMG_20200705_163233.jpg\n/home/unix/dev/images_test/./all_images/IMG_20200705_154307_resize.jpg\n/home/unix/dev/images_test/./all_images/IMG_20200819_130938.jpg\n/home/unix/dev/images_test/./all_images/IMG_20191110_170235_crop.jpg\n/home/unix/dev/images_test/./all_images/DSC04664_edited.jpg\n/home/unix/dev/images_test/./all_images/IMG_20191110_170235.jpg\n/home/unix/dev/images_test/./all_images/IMG_20170826_141543_edited.jpg\n/home/unix/dev/images_test/./all_images/IMG_20180926_123725.jpg\n/home/unix/dev/images_test/./all_images/IMG_20191110_170235_.jpg\n/home/unix/dev/images_test/./all_images/IMG_20200815_200436_1.jpg\n/home/unix/dev/images_test/./all_images/IMG_20200705_163233_edited_1.jpg\n/home/unix/dev/images_test/./all_images/IMG_20200709_191035_resize.jpg\n/home/unix/dev/images_test/./all_images/IMG_20180926_123725_edited.jpg\n/home/unix/dev/images_test/./all_images/dreizinnen_wanderung_nik.JPG\n/home/unix/dev/images_test/./all_images/IMG_20200913_000417.jpg\n/home/unix/dev/images_test/./all_images/IMG_20200709_191035.jpg\n/home/unix/dev/images_test/./all_images/IMG_20200705_162607_edited.jpg\n/home/unix/dev/images_test/./all_images/IMG_20200709_191045_resize.jpg\n/home/unix/dev/images_test/./all_images/IMG_20180926_190201.jpg\n/home/unix/dev/images_test/./all_images/IMG_20170908_182103_edited_1.jpg\n/home/unix/dev/images_test/./all_images/IMG_20200819_205230.jpg\n/home/unix/dev/images_test/./all_images/IMG_20200819_140131.jpg\n/home/unix/dev/images_test/./all_images/IMG_20200726_172233.jpg\n/home/unix/dev/images_test/./all_images/IMG_20200817_134433_resize.jpg\n/home/unix/dev/images_test/./all_images/IMG_20200726_172233_resize.jpg\n/home/unix/dev/images_test/./all_images/dreizinnen_wanderung_nik_edited.jpg\n/home/unix/dev/images_test/./all_images/PSX_20200814_220843.jpg\n/home/unix/dev/images_test/./all_images/test.jpg\n/home/unix/dev/images_test/./all_images/IMG_20200705_163233_edited.jpg\n/home/unix/dev/images_test/./all_images/IMG_20200819_140131_resize.jpg\n/home/unix/dev/images_test/./all_images/IMG_20170908_182103.jpg\n/home/unix/dev/images_test/./all_images/IMG_20200705_163227.jpg\n/home/unix/dev/images_test/./all_images/IMG_20200914_183532.jpg\n/home/unix/dev/images_test/./all_images/IMG-20200726-WA0003.jpg\n/home/unix/dev/images_test/./all_images/Screenshot_2020-09-13-18-53-25-224_com.ruuvi.station.jpg\n/home/unix/dev/images_test/./all_images/IMG_20200817_134433.jpg\n/home/unix/dev/images_test/./all_images/renkforce_weather_history_ipatsc2_Screenshot from 2020-07-27 21-01-11.png\n/home/unix/dev/images_test/./all_images/IMG_20180926_185843.jpg\n/home/unix/dev/images_test/./all_images/IMG_20200819_205230_resize.jpg\n/home/unix/dev/images_test/./all_images/IMG_20200630_170836_edited_1.jpg\n/home/unix/dev/images_test/./all_images/IMG_20180926_185843_edited_1.jpg\n/home/unix/dev/images_test/./all_images/IMG_20200712_115919.jpg\n/home/unix/dev/images_test/./all_images/IMG_20200815_200436_1_resize.jpg\n/home/unix/dev/images_test/./all_images/dashboard_Wunderground_screenshot_2020-07-25 21-13-37.png\n/home/unix/dev/images_test/./all_images/post-bg.jpg\n/home/unix/dev/images_test/./all_images/ambasat.jpg\n/home/unix/dev/images_test/./all_images/IMG_20200705_154307.jpg\n/home/unix/dev/images_test/./all_images/IMG_20200630_170836.jpg\n/home/unix/dev/images_test/./all_images/PSX_20200814_222100.jpg\n/home/unix/dev/images_test/./all_images/IMG_20200815_114145_resize.jpg\n/home/unix/dev/images_test/./all_images/IMG_20170826_141543.jpg\n/home/unix/dev/images_test/./all_images/PSX_20200814_222941.jpg\n/home/unix/dev/images_test/./all_images/IMG_20200709_191045.jpg\n/home/unix/dev/images_test/./all_images/DSC04664.JPG\n/home/unix/dev/images_test/./all_images/IMG_20180926_185843_edited.jpg\n/home/unix/dev/images_test/./all_images/PSX_20200814_222617.jpg\n/home/unix/dev/images_test/./all_images/IMG_20200819_130938_resize.jpg\n/home/unix/dev/images_test/./all_images/IMG_20170908_182103_edited.jpg\n/home/unix/dev/images_test/./all_images/PSX_20200814_222551.jpg\n/home/unix/dev/images_test/./all_images/PSX_20200814_221633.jpg\n/home/unix/dev/images_test/./all_images/Screenshot_2020-09-13-18-53-25-224_com.ruuvi.station_resize.jpg\n/home/unix/dev/images_test/./all_images/IMG_20200914_185318.jpg\n/home/unix/dev/images_test/./all_images/contact-bg.jpg\n/home/unix/dev/images_test/./all_images/IMG_20180926_190201_edited.jpg\n/home/unix/dev/images_test/./all_images/IMG_20200914_185318_resize.jpg\n/home/unix/dev/images_test/./all_images/IMG_20191110_170235_resize.jpg\n/home/unix/dev/images_test/./all_images/IMG_20200705_162607.jpg\n/home/unix/dev/images_test/./all_images/IMG_20200712_115919_compressed.jpg\n/home/unix/dev/images_test/./all_images/IMG_20200815_114145.jpg\n/home/unix/dev/images_test/./all_images/IMG_20180923_154053.jpg\n/home/unix/dev/images_test/./all_images/IMG_20170826_163840.jpg\n/home/unix/dev/images_test/./all_images/IMG_20191110_170235_compressed.jpg\n/home/unix/dev/images_test/./all_images/test_dreizinnen_wanderung_nik.JPG\n/home/unix/dev/images_test/./all_images/PSX_20200814_222333.jpg\n/home/unix/dev/images_test/./all_images/IMG_20200630_170836_edited.jpg\n/home/unix/dev/images_test/./my_personal_satellite/ambasat.jpg\n/home/unix/dev/images_test/./weather_station/IMG_20200705_154307_resize.jpg\n/home/unix/dev/images_test/./weather_station/IMG_20200726_172233_resize.jpg\n/home/unix/dev/images_test/./weather_station/renkforce_weather_history_ipatsc2_Screenshot from 2020-07-27 21-01-11.png\n/home/unix/dev/images_test/./weather_station/IMG_20200630_170836_edited_1.jpg\nfolder names: /home/unix/dev/images_test/./travelling\nfolder names: /home/unix/dev/images_test/./bike_tour_berlin_notebook\nfolder names: /home/unix/dev/images_test/./RuuviTags\nfolder names: /home/unix/dev/images_test/./PIRailSlider\nfolder names: /home/unix/dev/images_test/./cover_images\nfolder names: /home/unix/dev/images_test/./all_images\nfolder names: /home/unix/dev/images_test/./my_personal_satellite\nfolder names: /home/unix/dev/images_test/./weather_station\n"
     ]
    }
   ],
   "source": [
    "# !/usr/bin/python\n",
    "\n",
    "import os\n",
    "for root, dirs, files in os.walk('/home/unix/dev/images_test/.', topdown=False):\n",
    "   for name in files:\n",
    "      os.system('mogrify -resize 1050x700 (os.path.join(root, name)) *.jpg')\n",
    "      print(os.path.join(root, name))\n",
    "   for name in dirs:\n",
    "      print('folder names:', os.path.join(root, name))"
   ]
  },
  {
   "cell_type": "code",
   "execution_count": null,
   "metadata": {},
   "outputs": [],
   "source": []
  }
 ]
}